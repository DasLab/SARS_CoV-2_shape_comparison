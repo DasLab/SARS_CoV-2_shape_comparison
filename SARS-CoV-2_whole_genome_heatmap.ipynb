{
 "cells": [
  {
   "cell_type": "code",
   "execution_count": null,
   "metadata": {},
   "outputs": [],
   "source": [
    "import sys\n",
    "from arnie.mfe import mfe\n",
    "import seaborn as sns\n",
    "import numpy as np\n",
    "import pandas as pd\n",
    "from matplotlib import pyplot as plt \n",
    "nan = np.nan"
   ]
  },
  {
   "cell_type": "code",
   "execution_count": null,
   "metadata": {},
   "outputs": [],
   "source": [
    "#Replace '-999'in shape data to nan \n",
    "def shape_lines_unnorm(shape_lines):\n",
    "    all_shape_lines_no_nan = []\n",
    "    for number in shape_lines:\n",
    "        if number == '-999\\n':\n",
    "            all_shape_lines_no_nan.append('nan')\n",
    "        elif number =='nan\\n':\n",
    "             all_shape_lines_no_nan.append('nan')\n",
    "        elif number =='nan': #line added for 'nan' in dms shape\n",
    "             all_shape_lines_no_nan.append('nan')\n",
    "        else:\n",
    "            all_shape_lines_no_nan.append(number)   \n",
    "    float_lines=[float(i) for i in all_shape_lines_no_nan]\n",
    "    return (float_lines)"
   ]
  },
  {
   "cell_type": "code",
   "execution_count": null,
   "metadata": {},
   "outputs": [],
   "source": [
    "#Normalizzing the shape data\n",
    "def normalize_shape(shape_reacs):\n",
    "    shape_reacs = np.array(shape_reacs)\n",
    "\n",
    "    # Get rid of nan values for now\n",
    "    nonan_shape_reacs = shape_reacs[~np.isnan(shape_reacs)]\n",
    "\n",
    "    # Find Filter 1: 1.5 * Inter-Quartile Range\n",
    "    sorted_shape = np.sort(nonan_shape_reacs)\n",
    "    q1 = sorted_shape[int(0.25 * len(sorted_shape))]\n",
    "    q3 = sorted_shape[int(0.75 * len(sorted_shape))]\n",
    "    iq_range = abs(q3 - q1)\n",
    "    filter1 = next(x for x, val in \\\n",
    "        enumerate(list(sorted_shape)) if val > 1.5 * iq_range)\n",
    "\n",
    "    # Find Filter 2: 95% value\n",
    "    filter2 = int(0.95 * len(sorted_shape))\n",
    "\n",
    "    # Get maximum filter value and fiter data\n",
    "    filter_cutoff = sorted_shape[max(filter1, filter2)]\n",
    "    sorted_shape = sorted_shape[sorted_shape < filter_cutoff]\n",
    "\n",
    "    # Scalefactor: Mean of top 10th percentile of values\n",
    "    top90 = sorted_shape[int(0.9 * len(sorted_shape))]\n",
    "    scalefactor = np.mean(sorted_shape[sorted_shape > top90])\n",
    "        \n",
    "    # Scale dataset\n",
    "    return shape_reacs/scalefactor"
   ]
  },
  {
   "cell_type": "code",
   "execution_count": null,
   "metadata": {},
   "outputs": [],
   "source": [
    "#Possible normalized shape values 0-2\n",
    "def shape_norm_for_heatmap(shape_norm):\n",
    "    all_shape_lines_no_nan = []\n",
    "    for number in shape_norm:\n",
    "        if number < 0:\n",
    "            all_shape_lines_no_nan.append(0)\n",
    "        elif number > 2:\n",
    "            all_shape_lines_no_nan.append(2)\n",
    "        else:\n",
    "            all_shape_lines_no_nan.append(number)   \n",
    "    float_lines=[float(i) for i in all_shape_lines_no_nan]\n",
    "    return (float_lines)"
   ]
  },
  {
   "cell_type": "code",
   "execution_count": null,
   "metadata": {},
   "outputs": [],
   "source": [
    "#Half the shape values\n",
    "def divide_by_2(shape_lines):\n",
    "    quotients = []\n",
    "    for number in shape_lines:\n",
    "        quotients.append(number / 2)\n",
    "    return quotients"
   ]
  },
  {
   "cell_type": "code",
   "execution_count": null,
   "metadata": {},
   "outputs": [],
   "source": [
    "#Nest function for inputting the shape_lines\n",
    "def function_for_heatmap_data(shape_lines):\n",
    "    shape_lines_unnormalize = shape_lines_unnorm(shape_lines) \n",
    "    shape_lines_norm = normalize_shape(shape_lines_unnormalize)\n",
    "    shape_norm_for_heatmap_var = shape_norm_for_heatmap(shape_lines_norm)\n",
    "    shape_output = divide_by_2(shape_norm_for_heatmap_var)\n",
    "    return shape_output"
   ]
  },
  {
   "cell_type": "code",
   "execution_count": null,
   "metadata": {},
   "outputs": [],
   "source": [
    "def new_import(file_name):\n",
    "    shape_fname = file_name \n",
    "    f = open(shape_fname,encoding='utf-8-sig')\n",
    "    shape_lines= f.readlines()\n",
    "    f.close()\n",
    "    return shape_lines"
   ]
  },
  {
   "cell_type": "code",
   "execution_count": null,
   "metadata": {},
   "outputs": [],
   "source": [
    "#Changing \"T\" to \"U\" in sequence \n",
    "def sequence_no_T(sequence):\n",
    "    reactivity_no_GU= []\n",
    "    for idx in range(0, len(sequence)):\n",
    "        if sequence[idx] =='T':\n",
    "            reactivity_no_GU.append('U')\n",
    "        else:\n",
    "            reactivity_no_GU.append(sequence[idx])\n",
    "    return reactivity_no_GU"
   ]
  },
  {
   "cell_type": "code",
   "execution_count": null,
   "metadata": {},
   "outputs": [],
   "source": [
    "# Replacing dot bracket to binary notation\n",
    "def bp_func(dot_bracket):\n",
    "    struct_sim= []\n",
    "    for idx in range(0, len(dot_bracket)):\n",
    "        if dot_bracket[idx] == \".\":\n",
    "            struct_sim.append(1) #1 means base is unpaired\n",
    "        else:\n",
    "            struct_sim.append(0) #0 means base is paired\n",
    "    return(struct_sim)"
   ]
  },
  {
   "cell_type": "code",
   "execution_count": null,
   "metadata": {},
   "outputs": [],
   "source": [
    "#Half the shape values\n",
    "def divide_by_2(shape_lines):\n",
    "    quotients = []\n",
    "    for number in shape_lines:\n",
    "        quotients.append(number / 2)\n",
    "    return quotients"
   ]
  },
  {
   "cell_type": "code",
   "execution_count": null,
   "metadata": {},
   "outputs": [],
   "source": [
    "#SARS-Cov-2 whole genome sequence\n",
    "f = open('refseq.txt')\n",
    "whole_genome= f.readlines()[0].strip('\\n').replace('T','U')\n",
    "f.close()\n"
   ]
  },
  {
   "cell_type": "code",
   "execution_count": null,
   "metadata": {},
   "outputs": [],
   "source": [
    "#Import shape data from csv files\n",
    "shape_lines_incarnato = new_import('incarnato_normalized_reactivity.csv')\n",
    "shape_lines_pyle = new_import('pyle_normalized_reactivity.csv')\n",
    "shape_lines_zhang_invivo = new_import('zhang_invivo_normalized_reactivity.csv')\n",
    "shape_lines_zhang_invitro = new_import('zhang_invitro_normalized_reactivity.csv') "
   ]
  },
  {
   "cell_type": "code",
   "execution_count": null,
   "metadata": {},
   "outputs": [],
   "source": [
    "shape_norm_for_heatmap_incarnato_whole_genome =function_for_heatmap_data(shape_lines_incarnato)\n",
    "\n",
    "shape_norm_for_heatmap_pyle_whole_genome =function_for_heatmap_data(shape_lines_pyle)\n",
    "\n",
    "shape_norm_for_heatmap_zhang_invivo_whole_genome =function_for_heatmap_data(shape_lines_zhang_invivo)\n",
    "\n",
    "shape_norm_for_heatmap_zhang_invitro_whole_genome = function_for_heatmap_data(shape_lines_zhang_invitro)"
   ]
  },
  {
   "cell_type": "code",
   "execution_count": null,
   "metadata": {},
   "outputs": [],
   "source": [
    "#xaxis\n",
    "position_whole_genome=list(range(1,29904))\n",
    "xaxis_whole_genome = [''.join([whole_genome[i], str(position_whole_genome[i])]) for i in range(0, len(position_whole_genome))]"
   ]
  },
  {
   "cell_type": "code",
   "execution_count": null,
   "metadata": {},
   "outputs": [],
   "source": [
    "def covert_conservation_to_floats(conservation_lines):\n",
    "    conservation_numbers = []\n",
    "    for number in conservation_lines:\n",
    "        if number == '\\ufeff1\\n':\n",
    "            conservation_numbers.append(1)\n",
    "        else:\n",
    "            conservation_numbers.append(number)   \n",
    "    float_lines=[float(i) for i in conservation_numbers]\n",
    "    return (float_lines)"
   ]
  },
  {
   "cell_type": "code",
   "execution_count": null,
   "metadata": {},
   "outputs": [],
   "source": [
    "#Conservation track\n",
    "sars_conservation_lines = new_import('sarsr_conservation.csv') \n",
    "conservation_floats = covert_conservation_to_floats(sars_conservation_lines)\n",
    "conservation_whole_genome = conservation_floats\n"
   ]
  },
  {
   "cell_type": "code",
   "execution_count": null,
   "metadata": {},
   "outputs": [],
   "source": [
    "#Datasets in 100 nucleotide windows\n",
    "shape_norm_for_heatmap_pyle_whole_genome_frag =([shape_norm_for_heatmap_incarnato_whole_genome[i:i+100] for i in range(0, len(shape_norm_for_heatmap_incarnato_whole_genome), 100)])\n",
    "\n",
    "shape_norm_for_heatmap_incarnato_whole_genome_frag =([shape_norm_for_heatmap_pyle_whole_genome[i:i+100] for i in range(0, len(shape_norm_for_heatmap_pyle_whole_genome), 100)])\n",
    "\n",
    "shape_norm_for_heatmap_zhang_invivo_whole_genome_frag =([shape_norm_for_heatmap_zhang_invivo_whole_genome[i:i+100] for i in range(0, len(shape_norm_for_heatmap_zhang_invivo_whole_genome), 100)])\n",
    "\n",
    "shape_norm_for_heatmap_zhang_invitro_whole_genome_frag =([shape_norm_for_heatmap_zhang_invitro_whole_genome[i:i+100] for i in range(0, len(shape_norm_for_heatmap_zhang_invitro_whole_genome), 100)])"
   ]
  },
  {
   "cell_type": "code",
   "execution_count": null,
   "metadata": {},
   "outputs": [],
   "source": [
    "#supplementary data in 100 nucleotide windows\n",
    "xaxis_whole_genome_frag =([xaxis_whole_genome[i:i+100] for i in range(0, len(xaxis_whole_genome), 100)])\n",
    "conservation_whole_genome_frag =([conservation_whole_genome[i:i+100] for i in range(0, len(conservation_whole_genome), 100)])"
   ]
  },
  {
   "cell_type": "code",
   "execution_count": null,
   "metadata": {},
   "outputs": [],
   "source": [
    "#Import structured prediction data; for i in data: [start nucleotide, end nucleotide, sequence, dot bracket, nan]\n",
    "incarnato_predicted_structure_lines = new_import('incarnato_secondary_structures.csv')\n",
    "pyle_predicted_structure_lines = new_import('pyle_predicted_structures.csv')\n",
    "rnaz_predicted_structure_lines = new_import('rnaz_structured_predictions.csv')\n",
    "zhang_predicted_structure_lines = new_import('zhang_structures.csv')"
   ]
  },
  {
   "cell_type": "code",
   "execution_count": null,
   "metadata": {},
   "outputs": [],
   "source": [
    "incarnato_start=([incarnato_predicted_structure_lines[i].split(',')[0] for i in range(0, len(incarnato_predicted_structure_lines))])\n",
    "pyle_start=([pyle_predicted_structure_lines[i].split(',')[0] for i in range(0, len(pyle_predicted_structure_lines))])\n",
    "rnaz_start=([rnaz_predicted_structure_lines[i].split(',')[0] for i in range(0, len(rnaz_predicted_structure_lines))])\n",
    "zhang_start=([zhang_predicted_structure_lines[i].split(',')[0] for i in range(0, len(zhang_predicted_structure_lines))])\n"
   ]
  },
  {
   "cell_type": "code",
   "execution_count": null,
   "metadata": {},
   "outputs": [],
   "source": [
    "incarnato_end=([incarnato_predicted_structure_lines[i].split(',')[1] for i in range(0, len(incarnato_predicted_structure_lines))])\n",
    "pyle_end=([pyle_predicted_structure_lines[i].split(',')[1] for i in range(0, len(pyle_predicted_structure_lines))])\n",
    "rnaz_end=([rnaz_predicted_structure_lines[i].split(',')[1] for i in range(0, len(rnaz_predicted_structure_lines))])\n",
    "zhang_end=([zhang_predicted_structure_lines[i].split(',')[1] for i in range(0, len(zhang_predicted_structure_lines))])"
   ]
  },
  {
   "cell_type": "code",
   "execution_count": null,
   "metadata": {},
   "outputs": [],
   "source": [
    "incarnato_struct=([incarnato_predicted_structure_lines[i].split(',')[3] for i in range(0, len(incarnato_predicted_structure_lines))])\n",
    "pyle_struct=([pyle_predicted_structure_lines[i].split(',')[3] for i in range(0, len(pyle_predicted_structure_lines))])\n",
    "rnaz_struct=([rnaz_predicted_structure_lines[i].split(',')[3] for i in range(0, len(rnaz_predicted_structure_lines))])\n",
    "zhang_struct=([zhang_predicted_structure_lines[i].split(',')[3] for i in range(0, len(zhang_predicted_structure_lines))])\n"
   ]
  },
  {
   "cell_type": "code",
   "execution_count": null,
   "metadata": {},
   "outputs": [],
   "source": [
    "#Convert dot bracket to binary\n",
    "incarnato_struct_dot=([bp_func(incarnato_struct[i]) for i in range(0, len(incarnato_predicted_structure_lines))])\n",
    "pyle_struct_dot=([bp_func(pyle_struct[i]) for i in range(0, len(pyle_predicted_structure_lines))])\n",
    "rnaz_struct_dot=([bp_func(rnaz_struct[i]) for i in range(0, len(rnaz_predicted_structure_lines))])\n",
    "zhang_struct_dot=([bp_func(zhang_struct[i]) for i in range(0, len(zhang_predicted_structure_lines))])\n",
    "zhang_struct_dot=([bp_func(zhang_struct[i]) for i in range(0, len(zhang_predicted_structure_lines))])"
   ]
  },
  {
   "cell_type": "code",
   "execution_count": null,
   "metadata": {},
   "outputs": [],
   "source": [
    "def heatmap_secondary_struct_incarnato(start,end,dot_bracket):    \n",
    "    whole_genome_number = list(range(1,29904))\n",
    "    for i in range(len(start)):\n",
    "                   start_ind = int(start[i])\n",
    "                   end_ind = int(end[i])-1 # index\n",
    "                   ind = 0\n",
    "                   curr = dot_bracket[i]\n",
    "                   for j in range(start_ind,end_ind):\n",
    "                       whole_genome_number[j]= curr[ind]\n",
    "                       ind+=1\n",
    "    return whole_genome_number"
   ]
  },
  {
   "cell_type": "code",
   "execution_count": null,
   "metadata": {},
   "outputs": [],
   "source": [
    "def heatmap_secondary_struct(start,end,dot_bracket):    \n",
    "    whole_genome_number = list(range(1,29904))\n",
    "    for i in range(len(start)):\n",
    "                   start_ind = int(start[i])-1\n",
    "                   end_ind = int(end[i])\n",
    "                   ind = 0\n",
    "                   curr = dot_bracket[i]\n",
    "                   for j in range(start_ind,end_ind):\n",
    "                       whole_genome_number[j]= curr[ind]\n",
    "                       ind+=1\n",
    "    return whole_genome_number"
   ]
  },
  {
   "cell_type": "code",
   "execution_count": null,
   "metadata": {},
   "outputs": [],
   "source": [
    "def new_dot_func(dot_bracket):\n",
    "    struct_sim= []\n",
    "    for idx in range(0, len(dot_bracket)):\n",
    "        if dot_bracket[idx] == 1:\n",
    "            struct_sim.append(1) #1 means base is unpaired\n",
    "        elif dot_bracket[idx] == 0:\n",
    "            struct_sim.append(0)\n",
    "        else:\n",
    "            struct_sim.append(nan) #0 means base is paired\n",
    "    return(struct_sim)"
   ]
  },
  {
   "cell_type": "code",
   "execution_count": null,
   "metadata": {},
   "outputs": [],
   "source": [
    "predicted_sec_struct_incarnato = heatmap_secondary_struct_incarnato(incarnato_start,incarnato_end,incarnato_struct_dot)\n",
    "new_incarnato_struc = new_dot_func(predicted_sec_struct_incarnato)\n",
    "new_incarnato_struc[0]=nan"
   ]
  },
  {
   "cell_type": "code",
   "execution_count": null,
   "metadata": {},
   "outputs": [],
   "source": [
    "predicted_sec_struct_pyle = heatmap_secondary_struct(pyle_start, pyle_end, pyle_struct_dot)\n",
    "new_pyle_struc = new_dot_func(predicted_sec_struct_pyle)\n"
   ]
  },
  {
   "cell_type": "code",
   "execution_count": null,
   "metadata": {},
   "outputs": [],
   "source": [
    "predicted_sec_struct_rnaz = heatmap_secondary_struct(rnaz_start,rnaz_end,rnaz_struct_dot)\n",
    "new_rnaz_struc = new_dot_func(predicted_sec_struct_rnaz)"
   ]
  },
  {
   "cell_type": "code",
   "execution_count": null,
   "metadata": {},
   "outputs": [],
   "source": [
    "predicted_sec_struct_zhang = heatmap_secondary_struct(zhang_start,zhang_end,zhang_struct_dot)\n",
    "new_zhang_struc = new_dot_func(predicted_sec_struct_zhang)\n",
    "new_zhang_struc[0]=nan\n"
   ]
  },
  {
   "cell_type": "code",
   "execution_count": null,
   "metadata": {},
   "outputs": [],
   "source": [
    "#100 nucleotide windows for new tracks\n",
    "incarnato_struct_track =([new_incarnato_struc[i:i+100] for i in range(0, len(new_incarnato_struc), 100)])\n",
    "pyle_struct_track =([new_pyle_struc[i:i+100] for i in range(0, len(new_pyle_struc), 100)])\n",
    "rnaz_struct_track =([new_rnaz_struc[i:i+100] for i in range(0, len(new_rnaz_struc), 100)])\n",
    "zhang_struct_track =([new_zhang_struc[i:i+100] for i in range(0, len(new_zhang_struc), 100)])"
   ]
  },
  {
   "cell_type": "code",
   "execution_count": null,
   "metadata": {},
   "outputs": [],
   "source": [
    "from matplotlib.colors import LinearSegmentedColormap\n",
    "cdict = {'red': [[0, 1, 1], [0.1, 1, 1], [0.8, 0.96, 0.96], [1.0, 0.9666, 0.9666]],\n",
    "        'green': [[0, 1, 1], [0.1, 1, 1], [0.8, 0.71, 0.71], [1.0, 0.59, 0.59]], \n",
    "        'blue': [[0, 1, 1], [0.1, 1, 1], [0.8, 0.42, 0.42], [1.0, 0.35, 0.35]]}\n",
    "color_map = LinearSegmentedColormap('testCmap', segmentdata=cdict, N=256)\n",
    "color_map_red = plt.cm.get_cmap('Reds') # Set up color scheme\n",
    "color_map.set_bad(\"gainsboro\") # nan values will now be gray"
   ]
  },
  {
   "cell_type": "code",
   "execution_count": null,
   "metadata": {},
   "outputs": [],
   "source": [
    "def conserv_track(name,xaxis, i):\n",
    "    data= np.array([name]) \n",
    "    data_df = pd.DataFrame(data, \\\n",
    "                index=[\"conservation\"], \\\n",
    "                columns=xaxis)\n",
    "    heatmap = sns.heatmap(data_df, cmap='Greys', ax=ax[i], xticklabels=False)\n",
    "    for i in range(data_df.shape[0] + 1):\n",
    "        ax[0].axhline(i, color='white', lw=4)\n",
    "    heatmap.set_yticklabels(heatmap.get_yticklabels(),va='center', rotation=0)    \n"
   ]
  },
  {
   "cell_type": "code",
   "execution_count": null,
   "metadata": {},
   "outputs": [],
   "source": [
    "def struct_track(data_a, data_b, data_c, data_d,xaxis,i):\n",
    "    data= np.array([data_a, data_b, data_c, data_d]) \n",
    "    data_df = pd.DataFrame(data, \\\n",
    "                index=[\"Manfredonia, et al. structure\",\"Huston, et al. structure\", \"Rangan, et al. structure\", \"Sun, et al. structure\"], \\\n",
    "                columns=xaxis)\n",
    "    heatmap_a = sns.heatmap(data_df, cmap=color_map, ax=ax[i], xticklabels=False)\n",
    "    for i in range(data_df.shape[0] + 1):\n",
    "        ax[1].axhline(i, color='white', lw=4)\n",
    "    heatmap_a.set_yticklabels(heatmap_a.get_yticklabels(),va='center', rotation=0)\n"
   ]
  },
  {
   "cell_type": "code",
   "execution_count": null,
   "metadata": {},
   "outputs": [],
   "source": [
    "def shape_track(data_a, data_b, data_c, data_d,xaxis,i):   \n",
    "    data = np.array([data_a, data_b, data_c, data_d]) \n",
    "    data_df= pd.DataFrame(data, \\\n",
    "            index=[\"Manfredonia, et al. NAR 2020\", \"Sun, et al. invitro Cell 2021\", \"Sun, et al. invivo Cell 2021\", \"Huston, et al. Mol. Cell 2021)\"], \\\n",
    "            columns=xaxis)\n",
    "    mask = data_df.isnull() # Create a mask for all the \"nan\" values\n",
    "    heatmap = sns.heatmap(data_df, mask=mask, cmap=color_map, ax=ax[i])\n",
    "    heatmap.set_yticklabels(heatmap.get_yticklabels(),va='center', rotation=0)"
   ]
  },
  {
   "cell_type": "code",
   "execution_count": null,
   "metadata": {},
   "outputs": [],
   "source": [
    "#heatmap for whole genome\n",
    "\n",
    "import matplotlib as plt\n",
    "plt.rcParams.update({'figure.max_open_warning': 0})\n",
    "\n",
    "import matplotlib.pyplot as plt\n",
    "from matplotlib.backends.backend_pdf import PdfPages\n",
    "pp = PdfPages('genome_wide_structure_comparison.pdf')\n",
    "sns.set(font_scale = 4)\n",
    "\n",
    "for idx in range(0, 300, 3):  \n",
    "    data1a = shape_norm_for_heatmap_incarnato_whole_genome_frag[idx]\n",
    "    data2a = shape_norm_for_heatmap_zhang_invitro_whole_genome_frag[idx]\n",
    "    data3a = shape_norm_for_heatmap_zhang_invivo_whole_genome_frag[idx]\n",
    "    data4a = shape_norm_for_heatmap_pyle_whole_genome_frag[idx]\n",
    "\n",
    "    \n",
    "    xaxisa = xaxis_whole_genome_frag[idx]\n",
    "    conservationa = conservation_whole_genome_frag[idx]\n",
    "    struct1a = incarnato_struct_track[idx]\n",
    "    struct2a = pyle_struct_track[idx]\n",
    "    struct3a = rnaz_struct_track[idx]\n",
    "    struct4a= zhang_struct_track[idx]\n",
    "    \n",
    "    data1b = shape_norm_for_heatmap_incarnato_whole_genome_frag[idx+1]\n",
    "    data2b = shape_norm_for_heatmap_zhang_invitro_whole_genome_frag[idx+1]\n",
    "    data3b = shape_norm_for_heatmap_zhang_invivo_whole_genome_frag[idx+1]\n",
    "    data4b = shape_norm_for_heatmap_pyle_whole_genome_frag[idx+1]\n",
    "    \n",
    "    xaxisb = xaxis_whole_genome_frag[idx+1]\n",
    "    conservationb = conservation_whole_genome_frag[idx+1]\n",
    "    struct1b = incarnato_struct_track[idx+1]\n",
    "    struct2b = pyle_struct_track[idx+1]\n",
    "    struct3b = rnaz_struct_track[idx+1]\n",
    "    struct4b = zhang_struct_track[idx+1]\n",
    "\n",
    "    data1c = shape_norm_for_heatmap_incarnato_whole_genome_frag[idx+2]\n",
    "    data2c = shape_norm_for_heatmap_zhang_invitro_whole_genome_frag[idx+2]\n",
    "    data3c = shape_norm_for_heatmap_zhang_invivo_whole_genome_frag[idx+2]\n",
    "    data4c = shape_norm_for_heatmap_pyle_whole_genome_frag[idx+2]\n",
    "    \n",
    "    xaxisc = xaxis_whole_genome_frag[idx+2]\n",
    "    conservationc = conservation_whole_genome_frag[idx+2]\n",
    "    struct1c = incarnato_struct_track[idx+2]\n",
    "    struct2c = pyle_struct_track[idx+2]\n",
    "    struct3c = rnaz_struct_track[idx+2]\n",
    "    struct4c = zhang_struct_track[idx+2]\n",
    "\n",
    "    # Now on to making the plot!   \n",
    "    fig,ax = plt.subplots(11, 1, gridspec_kw={'height_ratios': [.5, 2, 5, 1, .5, 2, 5, 1, .5, 2, 5]},figsize=(120, 60))\n",
    "    fig.subplots_adjust(wspace=0.50)\n",
    "\n",
    "\n",
    "    #Tracks\n",
    "    conserv_track(conservationa, xaxisa, 0)\n",
    "    struct_track(struct1a,struct2a,struct3a,struct4a, xaxisa, 1)\n",
    "    shape_track(data1a, data2a, data3a, data4a, xaxisa, 2)  \n",
    "\n",
    "\n",
    "    ax[3].remove()\n",
    "\n",
    "    conserv_track(conservationb, xaxisb, 4)\n",
    "    struct_track(struct1b,struct2b,struct3b,struct4b, xaxisb, 5)\n",
    "    shape_track(data1b, data2b, data3b, data4b,xaxisb,6)  \n",
    "\n",
    "    ax[7].remove()\n",
    "    conserv_track(conservationc, xaxisc, 8)\n",
    "    struct_track(struct1c,struct2c,struct3c,struct4c, xaxisc, 9)\n",
    "    shape_track(data1c, data2c, data3c, data4c,xaxisc,10)  \n",
    "   \n",
    "    plt.xlabel(\"Genome position\") # X axis label    \n",
    "    pp.savefig(bbox_inches='tight')\n",
    "pp.close()"
   ]
  }
 ],
 "metadata": {
  "kernelspec": {
   "display_name": "Python 3",
   "language": "python",
   "name": "python3"
  },
  "language_info": {
   "codemirror_mode": {
    "name": "ipython",
    "version": 3
   },
   "file_extension": ".py",
   "mimetype": "text/x-python",
   "name": "python",
   "nbconvert_exporter": "python",
   "pygments_lexer": "ipython3",
   "version": "3.7.0"
  }
 },
 "nbformat": 4,
 "nbformat_minor": 4
}
